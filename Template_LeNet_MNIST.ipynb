{
 "cells": [
  {
   "cell_type": "code",
   "execution_count": 1,
   "metadata": {},
   "outputs": [],
   "source": [
    "import torch\n",
    "import torch.nn as nn\n",
    "import torch.nn.functional as F\n",
    "import torch.optim as optim\n",
    "from torchvision import datasets, transforms"
   ]
  },
  {
   "cell_type": "code",
   "execution_count": 2,
   "metadata": {},
   "outputs": [],
   "source": [
    "class LeNet(nn.Module):\n",
    "    def __init__(self):\n",
    "        super(LeNet, self).__init__()\n",
    "        self.conv1 = nn.Conv2d(1, 20, 5, 1)\n",
    "        self.conv2 = nn.Conv2d(20, 50, 5, 1)\n",
    "        self.fc1 = nn.Linear(4*4*50, 500)\n",
    "        self.fc2 = nn.Linear(500, 10)\n",
    "\n",
    "    def forward(self, x):\n",
    "        x = F.relu(self.conv1(x))\n",
    "        x = F.max_pool2d(x, 2, 2)\n",
    "        x = F.relu(self.conv2(x))\n",
    "        x = F.max_pool2d(x, 2, 2)\n",
    "        x = x.view(-1, 4*4*50)\n",
    "        x = F.relu(self.fc1(x))\n",
    "        x = self.fc2(x)\n",
    "        return F.log_softmax(x, dim=1)"
   ]
  },
  {
   "cell_type": "code",
   "execution_count": 3,
   "metadata": {},
   "outputs": [],
   "source": [
    "batch_size = 64\n",
    "test_batch_size = 1000\n",
    "epochs = 5\n",
    "lr = 0.01\n",
    "device = torch.device(\"cuda\" if torch.cuda.is_available() else \"cpu\")\n",
    "model = LeNet().to(device)\n",
    "optimizer = optim.SGD(model.parameters(), lr=lr)"
   ]
  },
  {
   "cell_type": "code",
   "execution_count": 4,
   "metadata": {},
   "outputs": [],
   "source": [
    "train_loader = torch.utils.data.DataLoader(\n",
    "    datasets.MNIST('./data', train=True, download=True, transform=transforms.Compose([transforms.ToTensor()])),\n",
    "                   batch_size=batch_size, shuffle=True)\n",
    "test_loader = torch.utils.data.DataLoader(\n",
    "    datasets.MNIST('./data', train=False,transform=transforms.Compose([transforms.ToTensor()])),\n",
    "                   batch_size=test_batch_size, shuffle=True)"
   ]
  },
  {
   "cell_type": "code",
   "execution_count": 6,
   "metadata": {},
   "outputs": [
    {
     "name": "stdout",
     "output_type": "stream",
     "text": [
      "Train Epoch: 1 [0/60000 (0%)]\tLoss: 0.338169\n",
      "Train Epoch: 1 [6400/60000 (11%)]\tLoss: 0.150904\n",
      "Train Epoch: 1 [12800/60000 (21%)]\tLoss: 0.120628\n",
      "Train Epoch: 1 [19200/60000 (32%)]\tLoss: 0.140503\n",
      "Train Epoch: 1 [25600/60000 (43%)]\tLoss: 0.137385\n",
      "Train Epoch: 1 [32000/60000 (53%)]\tLoss: 0.091047\n",
      "Train Epoch: 1 [38400/60000 (64%)]\tLoss: 0.285761\n",
      "Train Epoch: 1 [44800/60000 (75%)]\tLoss: 0.111738\n",
      "Train Epoch: 1 [51200/60000 (85%)]\tLoss: 0.214592\n",
      "Train Epoch: 1 [57600/60000 (96%)]\tLoss: 0.356457\n",
      "Test set: Average loss: 0.1462, Accuracy: 9560/10000 (96%)\n",
      "\n",
      "Train Epoch: 2 [0/60000 (0%)]\tLoss: 0.220217\n",
      "Train Epoch: 2 [6400/60000 (11%)]\tLoss: 0.171510\n",
      "Train Epoch: 2 [12800/60000 (21%)]\tLoss: 0.303528\n",
      "Train Epoch: 2 [19200/60000 (32%)]\tLoss: 0.299989\n",
      "Train Epoch: 2 [25600/60000 (43%)]\tLoss: 0.282878\n",
      "Train Epoch: 2 [32000/60000 (53%)]\tLoss: 0.360289\n",
      "Train Epoch: 2 [38400/60000 (64%)]\tLoss: 0.164971\n",
      "Train Epoch: 2 [44800/60000 (75%)]\tLoss: 0.160066\n",
      "Train Epoch: 2 [51200/60000 (85%)]\tLoss: 0.092216\n",
      "Train Epoch: 2 [57600/60000 (96%)]\tLoss: 0.233021\n",
      "Test set: Average loss: 0.1142, Accuracy: 9660/10000 (97%)\n",
      "\n",
      "Train Epoch: 3 [0/60000 (0%)]\tLoss: 0.042618\n",
      "Train Epoch: 3 [6400/60000 (11%)]\tLoss: 0.138623\n",
      "Train Epoch: 3 [12800/60000 (21%)]\tLoss: 0.087623\n",
      "Train Epoch: 3 [19200/60000 (32%)]\tLoss: 0.109534\n",
      "Train Epoch: 3 [25600/60000 (43%)]\tLoss: 0.361434\n",
      "Train Epoch: 3 [32000/60000 (53%)]\tLoss: 0.069473\n",
      "Train Epoch: 3 [38400/60000 (64%)]\tLoss: 0.132944\n",
      "Train Epoch: 3 [44800/60000 (75%)]\tLoss: 0.081620\n",
      "Train Epoch: 3 [51200/60000 (85%)]\tLoss: 0.119024\n",
      "Train Epoch: 3 [57600/60000 (96%)]\tLoss: 0.079417\n",
      "Test set: Average loss: 0.0949, Accuracy: 9713/10000 (97%)\n",
      "\n",
      "Train Epoch: 4 [0/60000 (0%)]\tLoss: 0.320294\n",
      "Train Epoch: 4 [6400/60000 (11%)]\tLoss: 0.096324\n",
      "Train Epoch: 4 [12800/60000 (21%)]\tLoss: 0.079003\n",
      "Train Epoch: 4 [19200/60000 (32%)]\tLoss: 0.093723\n",
      "Train Epoch: 4 [25600/60000 (43%)]\tLoss: 0.109620\n",
      "Train Epoch: 4 [32000/60000 (53%)]\tLoss: 0.037659\n",
      "Train Epoch: 4 [38400/60000 (64%)]\tLoss: 0.107322\n",
      "Train Epoch: 4 [44800/60000 (75%)]\tLoss: 0.066835\n",
      "Train Epoch: 4 [51200/60000 (85%)]\tLoss: 0.193284\n",
      "Train Epoch: 4 [57600/60000 (96%)]\tLoss: 0.036439\n",
      "Test set: Average loss: 0.0959, Accuracy: 9690/10000 (97%)\n",
      "\n",
      "Train Epoch: 5 [0/60000 (0%)]\tLoss: 0.064300\n",
      "Train Epoch: 5 [6400/60000 (11%)]\tLoss: 0.099482\n",
      "Train Epoch: 5 [12800/60000 (21%)]\tLoss: 0.041567\n",
      "Train Epoch: 5 [19200/60000 (32%)]\tLoss: 0.062952\n",
      "Train Epoch: 5 [25600/60000 (43%)]\tLoss: 0.142799\n",
      "Train Epoch: 5 [32000/60000 (53%)]\tLoss: 0.048333\n",
      "Train Epoch: 5 [38400/60000 (64%)]\tLoss: 0.124308\n",
      "Train Epoch: 5 [44800/60000 (75%)]\tLoss: 0.046398\n",
      "Train Epoch: 5 [51200/60000 (85%)]\tLoss: 0.021114\n",
      "Train Epoch: 5 [57600/60000 (96%)]\tLoss: 0.027645\n",
      "Test set: Average loss: 0.0661, Accuracy: 9801/10000 (98%)\n",
      "\n"
     ]
    }
   ],
   "source": [
    "for epoch in range(epochs):\n",
    "    model.train()\n",
    "    for batch_idx, (data, target) in enumerate(train_loader):\n",
    "        data, target = data.to(device), target.to(device)\n",
    "        optimizer.zero_grad()\n",
    "        output = model(data)\n",
    "        loss = F.nll_loss(output, target)\n",
    "        loss.backward()\n",
    "        optimizer.step()\n",
    "        if batch_idx % 100 == 0:\n",
    "            print('Train Epoch: {} [{}/{} ({:.0f}%)]\\tLoss: {:.6f}'.format(\n",
    "                epoch+1, batch_idx * len(data), len(train_loader.dataset),\n",
    "                       100. * batch_idx / len(train_loader), loss.item()))\n",
    "\n",
    "    model.eval()\n",
    "    test_loss = 0\n",
    "    correct = 0\n",
    "    with torch.no_grad():\n",
    "        for data, target in test_loader:\n",
    "            data, target = data.to(device), target.to(device)\n",
    "            output = model(data)\n",
    "            test_loss += F.nll_loss(output, target, reduction='sum').item()  # sum up batch loss\n",
    "            pred = output.argmax(dim=1, keepdim=True)\n",
    "            correct += pred.eq(target.view_as(pred)).sum().item()\n",
    "\n",
    "    test_loss /= len(test_loader.dataset)\n",
    "\n",
    "    print('Test set: Average loss: {:.4f}, Accuracy: {}/{} ({:.0f}%)\\n'.format(\n",
    "        test_loss, correct, len(test_loader.dataset),\n",
    "        100. * correct / len(test_loader.dataset)))"
   ]
  },
  {
   "cell_type": "code",
   "execution_count": null,
   "metadata": {},
   "outputs": [],
   "source": []
  },
  {
   "cell_type": "code",
   "execution_count": null,
   "metadata": {},
   "outputs": [],
   "source": []
  }
 ],
 "metadata": {
  "kernelspec": {
   "display_name": "Python 3",
   "language": "python",
   "name": "python3"
  },
  "language_info": {
   "codemirror_mode": {
    "name": "ipython",
    "version": 3
   },
   "file_extension": ".py",
   "mimetype": "text/x-python",
   "name": "python",
   "nbconvert_exporter": "python",
   "pygments_lexer": "ipython3",
   "version": "3.7.2"
  }
 },
 "nbformat": 4,
 "nbformat_minor": 2
}
